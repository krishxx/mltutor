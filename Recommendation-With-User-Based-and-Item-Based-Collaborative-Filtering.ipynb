{
 "cells": [
  {
   "cell_type": "code",
   "execution_count": null,
   "metadata": {},
   "outputs": [],
   "source": [
    "## Colloborative filtering is the process of filtering for\n",
    "## information or patterns using techniques including collboration\n",
    "## among multiple agents, viewpoints, data sources, and so on.\n",
    "\n",
    "## It tries to find people who are similar to each other by looking\n",
    "## at their tastes. If a person primarily likes action movies,\n",
    "## and it will try to recommend the one that hasn't been seen\n",
    "## by the first person, but seen by the second person\n",
    "\n",
    "## User-based collaborative filtering\n",
    "## Item-based collaborative filtering"
   ]
  },
  {
   "cell_type": "code",
   "execution_count": 1,
   "metadata": {},
   "outputs": [],
   "source": [
    "## following dictionary object contains movie user preferences\n",
    "movie_user_preferences={'Jill': {'Avenger: Age of Ultron': 7.0, 'Django Unchained': 6.5, 'Gone Girl': 9.0, 'Kill the Messenger': 8.0},\n",
    "                        'Julia': {'Avenger: Age of Ultron': 10.0, 'Django Unchained': 6.0, 'Gone Girl': 6.5, 'Kill the Messenger': 6.0, 'Zoolander': 6.5},\n",
    "                        'Max': {'Avenger: Age of Ultron': 7.0, 'Django Unchained': 7.0, 'Gone Girl': 10.0, 'Horrible Bosses 2': 6.0, 'Kill the Messenger': 5.0, 'Zoolander': 10.0},\n",
    "                        'Robert': {'Avenger: Age of Ultron': 8.0, 'Django Unchained': 7.0, 'Horrible Bosses 2': 5.0, 'Kill the Messenger': 9.0, 'Zoolander': 9.0},\n",
    "                        'Sam': {'Avenger: Age of Ultron': 10.0, 'Django Unchained': 7.5, 'Gone Girl': 6.0, 'Horrible Bosses 2': 3.0, 'Kill the Messenger': 5.5, 'Zoolander': 7.0},\n",
    "                        'Toby': {'Avenger: Age of Ultron': 8.5, 'Django Unchained': 9.0, 'Zoolander': 2.0},\n",
    "                        'William': {'Avenger: Age of Ultron': 6.0, 'Django Unchained': 8.0, 'Gone Girl': 7.0, 'Horrible Bosses 2': 4.0, 'Kill the Messenger': 6.5, 'Zoolander': 4.0}}\n"
   ]
  },
  {
   "cell_type": "code",
   "execution_count": 2,
   "metadata": {},
   "outputs": [
    {
     "data": {
      "text/plain": [
       "7.0"
      ]
     },
     "execution_count": 2,
     "metadata": {},
     "output_type": "execute_result"
    }
   ],
   "source": [
    "movie_user_preferences['William']['Gone Girl']"
   ]
  },
  {
   "cell_type": "code",
   "execution_count": null,
   "metadata": {},
   "outputs": [],
   "source": [
    "#  User-based collaborative filtering\n",
    "## Finding similar users\n",
    "##  by comparing each user with every other user\n",
    "## computing a similarity score\n",
    "## This similarity score can be computed using\n",
    "## pearson correlation, Euclidean distance, Manhattan Distance, and so on."
   ]
  },
  {
   "cell_type": "code",
   "execution_count": 11,
   "metadata": {},
   "outputs": [],
   "source": [
    "## Euclidean distance score\n",
    "data = []\n",
    "for i in movie_user_preferences.keys():\n",
    "    try:\n",
    "        data.append(\n",
    "        (i,\n",
    "         movie_user_preferences[i]['Django Unchained'],\n",
    "         movie_user_preferences[i]['Avenger: Age of Ultron']))\n",
    "    except:\n",
    "        pass\n",
    "        "
   ]
  },
  {
   "cell_type": "code",
   "execution_count": 12,
   "metadata": {},
   "outputs": [],
   "source": [
    "import pandas as pd\n",
    "df = pd.DataFrame(data=data, columns=['user', 'django', 'avenger'])"
   ]
  },
  {
   "cell_type": "code",
   "execution_count": 13,
   "metadata": {},
   "outputs": [
    {
     "data": {
      "text/html": [
       "<div>\n",
       "<style scoped>\n",
       "    .dataframe tbody tr th:only-of-type {\n",
       "        vertical-align: middle;\n",
       "    }\n",
       "\n",
       "    .dataframe tbody tr th {\n",
       "        vertical-align: top;\n",
       "    }\n",
       "\n",
       "    .dataframe thead th {\n",
       "        text-align: right;\n",
       "    }\n",
       "</style>\n",
       "<table border=\"1\" class=\"dataframe\">\n",
       "  <thead>\n",
       "    <tr style=\"text-align: right;\">\n",
       "      <th></th>\n",
       "      <th>user</th>\n",
       "      <th>django</th>\n",
       "      <th>avenger</th>\n",
       "    </tr>\n",
       "  </thead>\n",
       "  <tbody>\n",
       "    <tr>\n",
       "      <th>0</th>\n",
       "      <td>Jill</td>\n",
       "      <td>6.5</td>\n",
       "      <td>7.0</td>\n",
       "    </tr>\n",
       "    <tr>\n",
       "      <th>1</th>\n",
       "      <td>Julia</td>\n",
       "      <td>6.0</td>\n",
       "      <td>10.0</td>\n",
       "    </tr>\n",
       "    <tr>\n",
       "      <th>2</th>\n",
       "      <td>Max</td>\n",
       "      <td>7.0</td>\n",
       "      <td>7.0</td>\n",
       "    </tr>\n",
       "    <tr>\n",
       "      <th>3</th>\n",
       "      <td>Robert</td>\n",
       "      <td>7.0</td>\n",
       "      <td>8.0</td>\n",
       "    </tr>\n",
       "    <tr>\n",
       "      <th>4</th>\n",
       "      <td>Sam</td>\n",
       "      <td>7.5</td>\n",
       "      <td>10.0</td>\n",
       "    </tr>\n",
       "  </tbody>\n",
       "</table>\n",
       "</div>"
      ],
      "text/plain": [
       "     user  django  avenger\n",
       "0    Jill     6.5      7.0\n",
       "1   Julia     6.0     10.0\n",
       "2     Max     7.0      7.0\n",
       "3  Robert     7.0      8.0\n",
       "4     Sam     7.5     10.0"
      ]
     },
     "execution_count": 13,
     "metadata": {},
     "output_type": "execute_result"
    }
   ],
   "source": [
    "df.head()"
   ]
  },
  {
   "cell_type": "code",
   "execution_count": 14,
   "metadata": {},
   "outputs": [],
   "source": [
    "import matplotlib.pyplot as plt"
   ]
  },
  {
   "cell_type": "code",
   "execution_count": 15,
   "metadata": {},
   "outputs": [
    {
     "data": {
      "image/png": "[encoded data removed]",
      "text/plain": [
       "<Figure size 432x288 with 1 Axes>"
      ]
     },
     "metadata": {
      "needs_background": "light"
     },
     "output_type": "display_data"
    }
   ],
   "source": [
    "plt.scatter(df.django, df.avenger)\n",
    "plt.xlabel('Django')\n",
    "plt.ylabel('Avengers')\n",
    "for i,txt in enumerate(df.user):\n",
    "    plt.annotate(txt, (df.django[i],df.avenger[i]))\n",
    "plt.show()"
   ]
  },
  {
   "cell_type": "code",
   "execution_count": null,
   "metadata": {},
   "outputs": [],
   "source": [
    "## We can see the Jill and Toby are quite far away from each\n",
    "## other, where as Robert and Max are quite close to each other."
   ]
  },
  {
   "cell_type": "code",
   "execution_count": 17,
   "metadata": {
    "scrolled": true
   },
   "outputs": [
    {
     "data": {
      "text/plain": [
       "2.9154759474226504"
      ]
     },
     "execution_count": 17,
     "metadata": {},
     "output_type": "execute_result"
    }
   ],
   "source": [
    "from numpy import sqrt\n",
    "# Eclidean distance between Jill and Toby rating\n",
    "sqrt(pow(8.5-7,2)+pow(9-6.5,2))"
   ]
  },
  {
   "cell_type": "code",
   "execution_count": 18,
   "metadata": {},
   "outputs": [
    {
     "data": {
      "text/plain": [
       "1.0"
      ]
     },
     "execution_count": 18,
     "metadata": {},
     "output_type": "execute_result"
    }
   ],
   "source": [
    "#Euclidean distance between Robert and Max rating\n",
    "sqrt(pow(8-7,2)+pow(7-7,2))"
   ]
  },
  {
   "cell_type": "code",
   "execution_count": 19,
   "metadata": {},
   "outputs": [
    {
     "data": {
      "text/plain": [
       "0.5"
      ]
     },
     "execution_count": 19,
     "metadata": {},
     "output_type": "execute_result"
    }
   ],
   "source": [
    "# Similar score = 1/(1+Euclidean Distance)\n",
    "# similarity score between Robert and Max\n",
    "1/(1+sqrt(pow(8-7,2)+pow(7-7,2)))"
   ]
  },
  {
   "cell_type": "code",
   "execution_count": 20,
   "metadata": {},
   "outputs": [
    {
     "data": {
      "text/plain": [
       "0.2553967929896867"
      ]
     },
     "execution_count": 20,
     "metadata": {},
     "output_type": "execute_result"
    }
   ],
   "source": [
    "#Similarity score between Jill and Toby\n",
    "1/(1+sqrt(pow(8.5-7,2)+pow(9-6.5,2)))"
   ]
  },
  {
   "cell_type": "code",
   "execution_count": 23,
   "metadata": {},
   "outputs": [],
   "source": [
    "## Lets create a function the calculates the similarity score\n",
    "## based on the Euclidean distance between two users where all\n",
    "## all the movies that they watched are taken into consideration\n",
    "\n",
    "def sim_distance(prefs, person1, person2):\n",
    "    #Get the list of shared_items\n",
    "    si={}\n",
    "    for item in prefs[person1]:\n",
    "        if item in prefs[person2]:\n",
    "            si[item]=1\n",
    "    ##if they have no ratings in common, return 0\n",
    "    if len(si)==0:\n",
    "        return 0\n",
    "    ##Add up the squares of all the differences\n",
    "    sum_of_squares=sum([pow(prefs[person1][item]-prefs[person2][item],2) for item in prefs[person1] if item in prefs[person2]])\n",
    "    return 1/(1+sum_of_squares)"
   ]
  },
  {
   "cell_type": "code",
   "execution_count": 24,
   "metadata": {},
   "outputs": [
    {
     "data": {
      "text/plain": [
       "0.03278688524590164"
      ]
     },
     "execution_count": 24,
     "metadata": {},
     "output_type": "execute_result"
    }
   ],
   "source": [
    "sim_distance(movie_user_preferences, 'Sam','Toby')"
   ]
  },
  {
   "cell_type": "code",
   "execution_count": 25,
   "metadata": {},
   "outputs": [],
   "source": [
    "## The pearson correlation Score\n",
    "## using pearson correlation to compute the similarity between \n",
    "## two users\n",
    "\n",
    "def create_movie_user_df(input_data, user1, user2):\n",
    "    data = []\n",
    "    for movie in input_data[user1].keys():\n",
    "        if movie in input_data[user2].keys():\n",
    "            try:\n",
    "                data.append((movie,\n",
    "                            input_data[user1][movie],\n",
    "                            input_data[user2][movie]))\n",
    "            except:\n",
    "                pass\n",
    "    return pd.DataFrame(data=data, columns=['movie', user1, user2])\n"
   ]
  },
  {
   "cell_type": "code",
   "execution_count": 26,
   "metadata": {},
   "outputs": [
    {
     "data": {
      "text/html": [
       "<div>\n",
       "<style scoped>\n",
       "    .dataframe tbody tr th:only-of-type {\n",
       "        vertical-align: middle;\n",
       "    }\n",
       "\n",
       "    .dataframe tbody tr th {\n",
       "        vertical-align: top;\n",
       "    }\n",
       "\n",
       "    .dataframe thead th {\n",
       "        text-align: right;\n",
       "    }\n",
       "</style>\n",
       "<table border=\"1\" class=\"dataframe\">\n",
       "  <thead>\n",
       "    <tr style=\"text-align: right;\">\n",
       "      <th></th>\n",
       "      <th>movie</th>\n",
       "      <th>Sam</th>\n",
       "      <th>William</th>\n",
       "    </tr>\n",
       "  </thead>\n",
       "  <tbody>\n",
       "    <tr>\n",
       "      <th>0</th>\n",
       "      <td>Avenger: Age of Ultron</td>\n",
       "      <td>10.0</td>\n",
       "      <td>6.0</td>\n",
       "    </tr>\n",
       "    <tr>\n",
       "      <th>1</th>\n",
       "      <td>Django Unchained</td>\n",
       "      <td>7.5</td>\n",
       "      <td>8.0</td>\n",
       "    </tr>\n",
       "    <tr>\n",
       "      <th>2</th>\n",
       "      <td>Gone Girl</td>\n",
       "      <td>6.0</td>\n",
       "      <td>7.0</td>\n",
       "    </tr>\n",
       "    <tr>\n",
       "      <th>3</th>\n",
       "      <td>Horrible Bosses 2</td>\n",
       "      <td>3.0</td>\n",
       "      <td>4.0</td>\n",
       "    </tr>\n",
       "    <tr>\n",
       "      <th>4</th>\n",
       "      <td>Kill the Messenger</td>\n",
       "      <td>5.5</td>\n",
       "      <td>6.5</td>\n",
       "    </tr>\n",
       "    <tr>\n",
       "      <th>5</th>\n",
       "      <td>Zoolander</td>\n",
       "      <td>7.0</td>\n",
       "      <td>4.0</td>\n",
       "    </tr>\n",
       "  </tbody>\n",
       "</table>\n",
       "</div>"
      ],
      "text/plain": [
       "                    movie   Sam  William\n",
       "0  Avenger: Age of Ultron  10.0      6.0\n",
       "1        Django Unchained   7.5      8.0\n",
       "2               Gone Girl   6.0      7.0\n",
       "3       Horrible Bosses 2   3.0      4.0\n",
       "4      Kill the Messenger   5.5      6.5\n",
       "5               Zoolander   7.0      4.0"
      ]
     },
     "execution_count": 26,
     "metadata": {},
     "output_type": "execute_result"
    }
   ],
   "source": [
    "df = create_movie_user_df(movie_user_preferences, 'Sam', 'William')\n",
    "df"
   ]
  },
  {
   "cell_type": "code",
   "execution_count": 27,
   "metadata": {},
   "outputs": [
    {
     "data": {
      "image/png": "[encoded data removed]",
      "text/plain": [
       "<Figure size 432x288 with 1 Axes>"
      ]
     },
     "metadata": {
      "needs_background": "light"
     },
     "output_type": "display_data"
    }
   ],
   "source": [
    "plt.scatter(df.Sam, df.William)\n",
    "plt.xlabel('Sam')\n",
    "plt.ylabel('William')\n",
    "for i, txt in enumerate(df.movie):\n",
    "    plt.annotate(txt, (df.Sam[1], df.William[i]))\n",
    "plt.show()"
   ]
  },
  {
   "cell_type": "code",
   "execution_count": 29,
   "metadata": {},
   "outputs": [
    {
     "data": {
      "text/plain": [
       "(0.3706740197017842, 0.4694541326841092)"
      ]
     },
     "execution_count": 29,
     "metadata": {},
     "output_type": "execute_result"
    }
   ],
   "source": [
    "from scipy.stats.stats import pearsonr\n",
    "pearsonr(df.Sam, df.William)"
   ]
  },
  {
   "cell_type": "code",
   "execution_count": 30,
   "metadata": {},
   "outputs": [
    {
     "data": {
      "text/html": [
       "<div>\n",
       "<style scoped>\n",
       "    .dataframe tbody tr th:only-of-type {\n",
       "        vertical-align: middle;\n",
       "    }\n",
       "\n",
       "    .dataframe tbody tr th {\n",
       "        vertical-align: top;\n",
       "    }\n",
       "\n",
       "    .dataframe thead th {\n",
       "        text-align: right;\n",
       "    }\n",
       "</style>\n",
       "<table border=\"1\" class=\"dataframe\">\n",
       "  <thead>\n",
       "    <tr style=\"text-align: right;\">\n",
       "      <th></th>\n",
       "      <th>movie</th>\n",
       "      <th>Sam</th>\n",
       "      <th>Julia</th>\n",
       "    </tr>\n",
       "  </thead>\n",
       "  <tbody>\n",
       "    <tr>\n",
       "      <th>0</th>\n",
       "      <td>Avenger: Age of Ultron</td>\n",
       "      <td>10.0</td>\n",
       "      <td>10.0</td>\n",
       "    </tr>\n",
       "    <tr>\n",
       "      <th>1</th>\n",
       "      <td>Django Unchained</td>\n",
       "      <td>7.5</td>\n",
       "      <td>6.0</td>\n",
       "    </tr>\n",
       "    <tr>\n",
       "      <th>2</th>\n",
       "      <td>Gone Girl</td>\n",
       "      <td>6.0</td>\n",
       "      <td>6.5</td>\n",
       "    </tr>\n",
       "    <tr>\n",
       "      <th>3</th>\n",
       "      <td>Kill the Messenger</td>\n",
       "      <td>5.5</td>\n",
       "      <td>6.0</td>\n",
       "    </tr>\n",
       "    <tr>\n",
       "      <th>4</th>\n",
       "      <td>Zoolander</td>\n",
       "      <td>7.0</td>\n",
       "      <td>6.5</td>\n",
       "    </tr>\n",
       "  </tbody>\n",
       "</table>\n",
       "</div>"
      ],
      "text/plain": [
       "                    movie   Sam  Julia\n",
       "0  Avenger: Age of Ultron  10.0   10.0\n",
       "1        Django Unchained   7.5    6.0\n",
       "2               Gone Girl   6.0    6.5\n",
       "3      Kill the Messenger   5.5    6.0\n",
       "4               Zoolander   7.0    6.5"
      ]
     },
     "execution_count": 30,
     "metadata": {},
     "output_type": "execute_result"
    }
   ],
   "source": [
    "## Lets see the scatter plot of correlation between Sam and Julia\n",
    "df = create_movie_user_df(movie_user_preferences, 'Sam', 'Julia')\n",
    "df"
   ]
  },
  {
   "cell_type": "code",
   "execution_count": 31,
   "metadata": {},
   "outputs": [
    {
     "data": {
      "image/png": "[encoded data removed]",
      "text/plain": [
       "<Figure size 432x288 with 1 Axes>"
      ]
     },
     "metadata": {
      "needs_background": "light"
     },
     "output_type": "display_data"
    }
   ],
   "source": [
    "plt.scatter(df.Sam, df.Julia)\n",
    "plt.xlabel('Sam')\n",
    "plt.ylabel('Julia')\n",
    "for i,txt in enumerate(df.movie):\n",
    "    plt.annotate(txt, (df.Sam[i], df.Julia[i]))\n",
    "plt.show()"
   ]
  },
  {
   "cell_type": "code",
   "execution_count": 32,
   "metadata": {},
   "outputs": [
    {
     "data": {
      "text/plain": [
       "(0.8828518332602509, 0.0472775070034396)"
      ]
     },
     "execution_count": 32,
     "metadata": {},
     "output_type": "execute_result"
    }
   ],
   "source": [
    "pearsonr(df.Sam, df.Julia)"
   ]
  },
  {
   "cell_type": "code",
   "execution_count": 40,
   "metadata": {},
   "outputs": [],
   "source": [
    "## create a function that takes in the data and calculates the\n",
    "## Pearson correlation between the two users\n",
    "\n",
    "# Returns the pearson correlation coefficient for p1 and p2\n",
    "def sim_pearson(prefs, p1, p2):\n",
    "    # Get the list of mutually rated items\n",
    "    si={}\n",
    "    for item in prefs[p1]:\n",
    "        if item in prefs[p2]:\n",
    "            si[item]=1\n",
    "    #Find the number of elements\n",
    "    n=len(si)\n",
    "    #If they are no ratings in common, return 0\n",
    "    if n==0:\n",
    "        return 0\n",
    "    \n",
    "    # Add up all the preferences\n",
    "    sum1 = sum([prefs[p1][it] for it in si])\n",
    "    sum2 = sum([prefs[p2][it] for it in si])\n",
    "    \n",
    "    #sum up the squares\n",
    "    sum1sq=sum([pow(prefs[p1][it],2) for it in si])\n",
    "    sum2sq=sum([pow(prefs[p2][it],2) for it in si])\n",
    "    \n",
    "    #sum up the products\n",
    "    pSum = sum([prefs[p1][it]*prefs[p2][it] for it in si])\n",
    "    \n",
    "    #calculate pearson score\n",
    "    num=pSum-(sum1*sum2/n)\n",
    "    den=sqrt((sum1sq-pow(sum1,2)/n)*(sum2sq-pow(sum2,2)/n))\n",
    "    if den==0:\n",
    "        return 0\n",
    "    \n",
    "    r=num/den\n",
    "    \n",
    "    return r"
   ]
  },
  {
   "cell_type": "code",
   "execution_count": 41,
   "metadata": {},
   "outputs": [
    {
     "data": {
      "text/plain": [
       "0.8828518332602507"
      ]
     },
     "execution_count": 41,
     "metadata": {},
     "output_type": "execute_result"
    }
   ],
   "source": [
    "## lets compute pearson correlation between Sam and Julia\n",
    "sim_pearson(movie_user_preferences, 'Sam', 'Julia')"
   ]
  },
  {
   "cell_type": "code",
   "execution_count": 42,
   "metadata": {},
   "outputs": [],
   "source": [
    "# Ranking the users\n",
    "## Once we have the method of computing the similarity\n",
    "## between users, we then proceed to rank them based on\n",
    "## similarity between particular users.\n",
    "\n",
    "def top_matches(prefs, person, n=5, similarity=sim_pearson):\n",
    "        scores = [(similarity(prefs, person, other), other)\n",
    "                 for other in prefs if other!=person]\n",
    "        #sort the list so the highest scores appear at the top\n",
    "        scores.sort()\n",
    "        scores.reverse()\n",
    "        return scores[0:n]"
   ]
  },
  {
   "cell_type": "code",
   "execution_count": 43,
   "metadata": {},
   "outputs": [
    {
     "data": {
      "text/plain": [
       "[(0.10526315789473684, 'Jill'),\n",
       " (0.08163265306122448, 'William'),\n",
       " (0.03278688524590164, 'Sam')]"
      ]
     },
     "execution_count": 43,
     "metadata": {},
     "output_type": "execute_result"
    }
   ],
   "source": [
    "## Let's see top three people who are similar to Toby:\n",
    "top_matches(movie_user_preferences, 'Toby', n=3, similarity = sim_distance)"
   ]
  },
  {
   "cell_type": "code",
   "execution_count": null,
   "metadata": {},
   "outputs": [],
   "source": [
    "## Recommending items\n",
    "## once you know who is similar to you, you would now like to know the\n",
    "## movies that are recommended for you. The following image \n",
    "## shows how to compute a score for the movies so that\n",
    "## we can find out what the most recommended movie is:\n",
    "\n",
    "## We multiply the similarity score by the movie ratings of each use\n",
    "## We then sum up this new score and then divide it by the applicable similarity score\n",
    "## In summary, we are taking the weighted average based on the similarity score."
   ]
  },
  {
   "cell_type": "code",
   "execution_count": 49,
   "metadata": {},
   "outputs": [],
   "source": [
    "def get_recommendations(prefs, person, similarity=sim_pearson):\n",
    "    totals={}\n",
    "    simSums={}\n",
    "    for other in prefs:\n",
    "        #don't compare me to myself\n",
    "        if other==person:\n",
    "            continue\n",
    "        sim=similarity(prefs,person,other)\n",
    "        \n",
    "        #ignore scores of zero or lower\n",
    "        if sim<=0:\n",
    "            continue\n",
    "        for item in prefs[other]:\n",
    "            #only score  movies I haven't seen yet\n",
    "            if item not in prefs[person] or prefs[person][item]==0:\n",
    "                #Similarity * score\n",
    "                totals.setdefault(item,0)\n",
    "                totals[item]+=prefs[other][item]*sim\n",
    "                #sum of similarities\n",
    "                simSums.setdefault(item, 0)\n",
    "                simSums[item]+=sim\n",
    "        \n",
    "    #Create the normalized list\n",
    "    rankings = [(total/simSums[item], item) for item,total in totals.items()]\n",
    "    #Return the sorted list\n",
    "    rankings.sort()\n",
    "    rankings.reverse()\n",
    "    return rankings"
   ]
  },
  {
   "cell_type": "code",
   "execution_count": 50,
   "metadata": {},
   "outputs": [
    {
     "data": {
      "text/plain": [
       "[(6.587965809121004, 'Gone Girl'),\n",
       " (6.087965809121004, 'Kill the Messenger'),\n",
       " (3.608127720528246, 'Horrible Bosses 2')]"
      ]
     },
     "execution_count": 50,
     "metadata": {},
     "output_type": "execute_result"
    }
   ],
   "source": [
    "get_recommendations(movie_user_preferences, 'Toby')"
   ]
  },
  {
   "cell_type": "code",
   "execution_count": 52,
   "metadata": {},
   "outputs": [
    {
     "data": {
      "text/plain": [
       "[(7.773043918833565, 'Gone Girl'),\n",
       " (6.976295282563891, 'Kill the Messenger'),\n",
       " (4.093380589669568, 'Horrible Bosses 2')]"
      ]
     },
     "execution_count": 52,
     "metadata": {},
     "output_type": "execute_result"
    }
   ],
   "source": [
    "get_recommendations(movie_user_preferences, 'Toby', similarity=sim_distance)"
   ]
  },
  {
   "cell_type": "code",
   "execution_count": null,
   "metadata": {},
   "outputs": [],
   "source": [
    "# ITEM based collaborative filtering"
   ]
  },
  {
   "cell_type": "code",
   "execution_count": 53,
   "metadata": {},
   "outputs": [],
   "source": [
    "def transform_prefs(prefs):\n",
    "    result={}\n",
    "    for person in prefs:\n",
    "        for item in prefs[person]:\n",
    "            result.setdefault(item,{})\n",
    "            result[item][person]=prefs[person][item]\n",
    "    return result"
   ]
  },
  {
   "cell_type": "code",
   "execution_count": null,
   "metadata": {},
   "outputs": [],
   "source": [
    "{'Avenger: Age of Ultron': {'Jill': 7.0,  'Julia': 10.0, 'Max': 7.0, 'Robert': 8.0, 'Sam': 10.0, 'Toby': 8.5, 'William': 6.0}, 'Django Unchained': {'Jill': 6.5, 'Julia': 6.0, 'Max': 7.0, 'Robert': 7.0, 'Sam': 7.5, 'Toby': 9.0, 'William': 8.0}, 'Gone Girl': {'Jill': 9.0, 'Julia': 6.5, 'Max': 10.0, 'Sam': 6.0, 'William': 7.0}, 'Horrible Bosses 2': {'Max': 6.0, 'Robert': 5.0, 'Sam': 3.0,      'William': 4.0}, 'Kill the Messenger': {'Jill': 8.0, 'Julia': 6.0, 'Max': 5.0, 'Robert': 9.0, 'Sam': 5.5, 'William': 6.5}, 'Zoolander': {'Julia': 6.5, 'Max': 10.0, 'Robert': 9.0, 'Sam': 7.0, 'Toby': 2.0, 'William': 4.0}}"
   ]
  },
  {
   "cell_type": "code",
   "execution_count": null,
   "metadata": {},
   "outputs": [],
   "source": [
    "## TBD"
   ]
  }
 ],
 "metadata": {
  "kernelspec": {
   "display_name": "Python 3",
   "language": "python",
   "name": "python3"
  },
  "language_info": {
   "codemirror_mode": {
    "name": "ipython",
    "version": 3
   },
   "file_extension": ".py",
   "mimetype": "text/x-python",
   "name": "python",
   "nbconvert_exporter": "python",
   "pygments_lexer": "ipython3",
   "version": "3.7.3"
  }
 },
 "nbformat": 4,
 "nbformat_minor": 2
}
