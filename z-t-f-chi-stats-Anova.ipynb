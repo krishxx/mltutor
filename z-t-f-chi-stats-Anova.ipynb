{
 "cells": [
  {
   "cell_type": "code",
   "execution_count": null,
   "metadata": {},
   "outputs": [],
   "source": [
    "## t distribution is used to analyze the population when the sample is small\n",
    "\n",
    "## z-distribution has proper bell shape centered at 0\n",
    "## t-distribution is shorter and flatter around the centre than z-distribution\n",
    "## \n",
    "\n",
    "## T-distribution's standard deviation is propotionally larger than\n",
    "## the z-distribution"
   ]
  },
  {
   "cell_type": "code",
   "execution_count": null,
   "metadata": {},
   "outputs": [],
   "source": [
    "## Z-test is used to compare the population mean against a sample\n",
    "## or compare the population mean of two distributions with a sample\n",
    "## size greater than 30."
   ]
  },
  {
   "cell_type": "code",
   "execution_count": 13,
   "metadata": {},
   "outputs": [],
   "source": [
    "import numpy as np\n",
    "from scipy import stats"
   ]
  },
  {
   "cell_type": "code",
   "execution_count": 14,
   "metadata": {},
   "outputs": [],
   "source": [
    "class1_score = np.array([45.0,40.0, 49.0, 52.0, 54.0, 64.0, 36.0, 41.0, 42.0, 34.0])\n",
    "class2_score = np.array([75.0, 85.0, 53.0, 70.0, 72.0, 93.0, 61.0, 65.0, 65.0, 72.0])"
   ]
  },
  {
   "cell_type": "code",
   "execution_count": 15,
   "metadata": {},
   "outputs": [
    {
     "data": {
      "text/plain": [
       "Ttest_indResult(statistic=-5.458195056848408, pvalue=3.482072285015316e-05)"
      ]
     },
     "execution_count": 15,
     "metadata": {},
     "output_type": "execute_result"
    }
   ],
   "source": [
    "stats.ttest_ind(class1_score, class2_score)"
   ]
  },
  {
   "cell_type": "code",
   "execution_count": null,
   "metadata": {},
   "outputs": [],
   "source": [
    "##  The first value in the output is the calculated t-statistics, whereas the second value is the p-value and p-value shows that the two distributions are not identical. "
   ]
  },
  {
   "cell_type": "code",
   "execution_count": null,
   "metadata": {},
   "outputs": [],
   "source": [
    "## F-distribution is also known as Snedecor's F distribution or\n",
    "## the Fischer-Snedecor distribution\n",
    "\n",
    "## f = s12/sigma2 // s22/sigma2 \n",
    "## two samples standard deviations s1,s2\n",
    "## two populations "
   ]
  },
  {
   "cell_type": "code",
   "execution_count": null,
   "metadata": {},
   "outputs": [],
   "source": []
  },
  {
   "cell_type": "code",
   "execution_count": null,
   "metadata": {},
   "outputs": [],
   "source": [
    "## Chi-square distribution"
   ]
  },
  {
   "cell_type": "code",
   "execution_count": null,
   "metadata": {},
   "outputs": [],
   "source": [
    "## n is the size of the sample, s is the standard deviation of sample\n",
    "## and sigma is the standard deviation of the population\n",
    "\n",
    "## if we repeatedly take samples and define the chi-square statistics\n",
    "## then we can form a chi-square distribution\n",
    "## \n",
    "\n",
    "## Chi-square test can be used to test whether the observed data\n",
    "## differs significantly from the expected data. \n",
    "\n",
    "## lets take dice, rolled 36 times and probability of each face 1/6.."
   ]
  },
  {
   "cell_type": "code",
   "execution_count": 16,
   "metadata": {},
   "outputs": [],
   "source": [
    "expected = np.array([6,6,6,6,6,6])"
   ]
  },
  {
   "cell_type": "code",
   "execution_count": 17,
   "metadata": {},
   "outputs": [],
   "source": [
    "observed = np.array([7,5,3,9,6,6])"
   ]
  },
  {
   "cell_type": "code",
   "execution_count": 18,
   "metadata": {},
   "outputs": [
    {
     "data": {
      "text/plain": [
       "Power_divergenceResult(statistic=3.333333333333333, pvalue=0.6487423586675934)"
      ]
     },
     "execution_count": 18,
     "metadata": {},
     "output_type": "execute_result"
    }
   ],
   "source": [
    "stats.chisquare(observed, expected)"
   ]
  },
  {
   "cell_type": "code",
   "execution_count": null,
   "metadata": {},
   "outputs": [],
   "source": [
    "## the first value is chi-square value and second value is p(high)\n",
    "## this means that null hypothesis is valid and the observed value\n",
    "## is similar to the expected value"
   ]
  },
  {
   "cell_type": "code",
   "execution_count": null,
   "metadata": {},
   "outputs": [],
   "source": [
    "## Chi-square test of independance\n",
    "## is used to determine two categorical variables are independant\n",
    "## of each other or not"
   ]
  },
  {
   "cell_type": "code",
   "execution_count": 20,
   "metadata": {},
   "outputs": [],
   "source": [
    "men_women = np.array([[100,120,60],[350,200,90]])"
   ]
  },
  {
   "cell_type": "code",
   "execution_count": 21,
   "metadata": {},
   "outputs": [
    {
     "data": {
      "text/plain": [
       "(28.362103174603167,\n",
       " 6.938211717057744e-07,\n",
       " 2,\n",
       " array([[136.95652174,  97.39130435,  45.65217391],\n",
       "        [313.04347826, 222.60869565, 104.34782609]]))"
      ]
     },
     "execution_count": 21,
     "metadata": {},
     "output_type": "execute_result"
    }
   ],
   "source": [
    "stats.chi2_contingency(men_women)"
   ]
  },
  {
   "cell_type": "code",
   "execution_count": null,
   "metadata": {},
   "outputs": [],
   "source": [
    "## First is the chi-square value\n",
    "## second is the p-value which is very small..so there exist relation between"
   ]
  },
  {
   "cell_type": "code",
   "execution_count": null,
   "metadata": {},
   "outputs": [],
   "source": [
    "# ANOVA\n",
    "## its a statistical method used to test differences\n",
    "## between two or more means\n",
    "\n",
    "## Ho : m1 = m2 = m3 =............mk"
   ]
  },
  {
   "cell_type": "code",
   "execution_count": 23,
   "metadata": {},
   "outputs": [],
   "source": [
    "## lets take height of men who are from three countries and see if\n",
    "## their heights are significantly different from others"
   ]
  },
  {
   "cell_type": "code",
   "execution_count": 22,
   "metadata": {},
   "outputs": [],
   "source": [
    "country1 = np.array([ 176.,  179.,  180.,  188.,  187.,  184.,  171.,  \n",
    "         201.,  172.,        181.,  192.,  187.,  178.,  178.,  180.,  199.,  185.,  176.,        207.,  177.,  160.,  174.,  176.,  192.,  189.,  187.,  183.,        180.,  181.,  200.,  190.,  187.,  175.,  179.,  181.,  183.,        171.,  181.,  190.,  186.,  185.,  188.,  201.,  192.,  188.,        181.,  172.,  191.,  201.,  170.,  170.,  192.,  185.,  167.,        178.,  179.,  167.,  183.,  200.,  185.])\n"
   ]
  },
  {
   "cell_type": "code",
   "execution_count": 24,
   "metadata": {},
   "outputs": [],
   "source": [
    "country2 = np.array([ 177.,  165.,  175.,  172.,  179.,  192.,  169.,  \n",
    "                       185.,  187., 167.,  162.,  165.,  188.,  194.,  187.,  175.,  163.,  178.,        197.,  172.,  175.,  185.,  176.,  171.,  172.,  186.,  168.,        178.,  191.,  192.,  175.,  189.,  178.,  181.,  170.,  182.,        166.,  189.,  196.,  192.,  189.,  171.,  185.,  198.,  181.,        167.,  184.,  179.,  178.,  193.,  179.,  177.,  181.,  174.,        171.,  184.,  156.,  180.,  181.,  187.])\n"
   ]
  },
  {
   "cell_type": "code",
   "execution_count": 25,
   "metadata": {},
   "outputs": [],
   "source": [
    "country3 = np.array([ 191.,  190.,  191.,  185.,  190.,  184.,           173.,  175.,  200.,        190.,  191.,  184.,  167.,  194.,  195.,  174.,  171.,  191.,        174.,  177.,  182.,  184.,  176.,  180.,  181.,  186.,  179.,        176.,  186.,  176.,  184.,  194.,  179.,  171.,  174.,  174.,        182.,  198.,  180.,  178.,  200.,  200.,  174.,  202.,  176.,        180.,  163.,  159.,  194.,  192.,  163.,  194.,  183.,  190.,        186.,  178.,  182.,  174.,  178.,  182.])"
   ]
  },
  {
   "cell_type": "code",
   "execution_count": 26,
   "metadata": {},
   "outputs": [
    {
     "data": {
      "text/plain": [
       "F_onewayResult(statistic=2.9852039682643414, pvalue=0.05307967881268609)"
      ]
     },
     "execution_count": 26,
     "metadata": {},
     "output_type": "execute_result"
    }
   ],
   "source": [
    "stats.f_oneway(country1, country2, country3)"
   ]
  },
  {
   "cell_type": "code",
   "execution_count": null,
   "metadata": {},
   "outputs": [],
   "source": [
    "## first value is F-value and second value is gives the p-value\n",
    "## since the p-value is greater than 5% by a small margin,\n",
    "## we can tell that the mean of the heights in three countries\n",
    "## is not signficantly different from each other.\n"
   ]
  }
 ],
 "metadata": {
  "kernelspec": {
   "display_name": "Python 3",
   "language": "python",
   "name": "python3"
  },
  "language_info": {
   "codemirror_mode": {
    "name": "ipython",
    "version": 3
   },
   "file_extension": ".py",
   "mimetype": "text/x-python",
   "name": "python",
   "nbconvert_exporter": "python",
   "pygments_lexer": "ipython3",
   "version": "3.7.3"
  }
 },
 "nbformat": 4,
 "nbformat_minor": 2
}
