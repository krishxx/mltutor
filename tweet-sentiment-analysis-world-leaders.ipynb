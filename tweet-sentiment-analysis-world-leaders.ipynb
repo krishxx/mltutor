{
 "cells": [
  {
   "cell_type": "code",
   "execution_count": 2,
   "metadata": {},
   "outputs": [],
   "source": [
    "TWITTER_APP_KEY='d3a4TFfBRgZCVPjxLv1UrPSUs'\n",
    "TWITTER_APP_KEY_SECRET='RUyOEt6f8grC0Pf6brSy8AHLh73XsdWhKAr6xGhLh8yhB35CTn'\n",
    "TWITTER_ACCESS_TOKEN='1398380190-hSASbmSrzYCwoWJy7e652NSXICCYdpq9bbLk2WL'\n",
    "TWITTER_ACCESS_TOKEN_SECRET='ZAvLpgTBdeRw48UD8jwXcFe1fAjYzSigmrj3VzGLfvAoA'"
   ]
  },
  {
   "cell_type": "code",
   "execution_count": 5,
   "metadata": {},
   "outputs": [],
   "source": [
    "from twython import Twython, TwythonError"
   ]
  },
  {
   "cell_type": "code",
   "execution_count": 6,
   "metadata": {},
   "outputs": [],
   "source": [
    "t = Twython(app_key=TWITTER_APP_KEY,\n",
    "            app_secret=TWITTER_APP_KEY_SECRET,\n",
    "            oauth_token=TWITTER_ACCESS_TOKEN,\n",
    "            oauth_token_secret=TWITTER_ACCESS_TOKEN_SECRET)"
   ]
  },
  {
   "cell_type": "code",
   "execution_count": 7,
   "metadata": {},
   "outputs": [],
   "source": [
    "def get_tweets(twython_object, query, n):\n",
    "    count = 0\n",
    "    result_generator = twython_object.cursor(twython_object.search,q = query)\n",
    "    result_set = []\n",
    "    for r in result_generator:\n",
    "        result_set.append(r['text'])\n",
    "        count += 1\n",
    "        if count == n:\n",
    "            break\n",
    "    return result_set"
   ]
  },
  {
   "cell_type": "code",
   "execution_count": 13,
   "metadata": {},
   "outputs": [
    {
     "ename": "UnsupportedOperation",
     "evalue": "not readable",
     "output_type": "error",
     "traceback": [
      "\u001b[1;31m---------------------------------------------------------------------------\u001b[0m",
      "\u001b[1;31mUnsupportedOperation\u001b[0m                      Traceback (most recent call last)",
      "\u001b[1;32m<ipython-input-13-317cd72c6f55>\u001b[0m in \u001b[0;36m<module>\u001b[1;34m\u001b[0m\n\u001b[0;32m      3\u001b[0m \u001b[1;32mimport\u001b[0m \u001b[0msimplejson\u001b[0m \u001b[1;32mas\u001b[0m \u001b[0mjson\u001b[0m\u001b[1;33m\u001b[0m\u001b[1;33m\u001b[0m\u001b[0m\n\u001b[0;32m      4\u001b[0m \u001b[1;32mwith\u001b[0m \u001b[0mopen\u001b[0m\u001b[1;33m(\u001b[0m\u001b[1;34m\"C:\\\\data\\\\politician_tweets.json\"\u001b[0m\u001b[1;33m,\u001b[0m\u001b[1;34m\"w\"\u001b[0m\u001b[1;33m)\u001b[0m \u001b[1;32mas\u001b[0m \u001b[0mfp\u001b[0m\u001b[1;33m:\u001b[0m\u001b[1;33m\u001b[0m\u001b[1;33m\u001b[0m\u001b[0m\n\u001b[1;32m----> 5\u001b[1;33m     \u001b[0mtweets\u001b[0m\u001b[1;33m=\u001b[0m\u001b[0mjson\u001b[0m\u001b[1;33m.\u001b[0m\u001b[0mload\u001b[0m\u001b[1;33m(\u001b[0m\u001b[0mfp\u001b[0m\u001b[1;33m)\u001b[0m\u001b[1;33m\u001b[0m\u001b[1;33m\u001b[0m\u001b[0m\n\u001b[0m",
      "\u001b[1;32m~\\Anaconda3\\lib\\site-packages\\simplejson\\__init__.py\u001b[0m in \u001b[0;36mload\u001b[1;34m(fp, encoding, cls, object_hook, parse_float, parse_int, parse_constant, object_pairs_hook, use_decimal, namedtuple_as_object, tuple_as_array, **kw)\u001b[0m\n\u001b[0;32m    455\u001b[0m \u001b[1;33m\u001b[0m\u001b[0m\n\u001b[0;32m    456\u001b[0m     \"\"\"\n\u001b[1;32m--> 457\u001b[1;33m     return loads(fp.read(),\n\u001b[0m\u001b[0;32m    458\u001b[0m         \u001b[0mencoding\u001b[0m\u001b[1;33m=\u001b[0m\u001b[0mencoding\u001b[0m\u001b[1;33m,\u001b[0m \u001b[0mcls\u001b[0m\u001b[1;33m=\u001b[0m\u001b[0mcls\u001b[0m\u001b[1;33m,\u001b[0m \u001b[0mobject_hook\u001b[0m\u001b[1;33m=\u001b[0m\u001b[0mobject_hook\u001b[0m\u001b[1;33m,\u001b[0m\u001b[1;33m\u001b[0m\u001b[1;33m\u001b[0m\u001b[0m\n\u001b[0;32m    459\u001b[0m         \u001b[0mparse_float\u001b[0m\u001b[1;33m=\u001b[0m\u001b[0mparse_float\u001b[0m\u001b[1;33m,\u001b[0m \u001b[0mparse_int\u001b[0m\u001b[1;33m=\u001b[0m\u001b[0mparse_int\u001b[0m\u001b[1;33m,\u001b[0m\u001b[1;33m\u001b[0m\u001b[1;33m\u001b[0m\u001b[0m\n",
      "\u001b[1;31mUnsupportedOperation\u001b[0m: not readable"
     ]
    }
   ],
   "source": [
    "## Trump, Putin, Modi, Xi Jin Ping, and Boris\n",
    "## english tweets, limit of 500 tweets\n",
    "import simplejson as json\n",
    "with open(\"C:\\\\data\\\\politician_tweets.json\",\"w\") as fp:\n",
    "    tweets=json.load(fp)"
   ]
  },
  {
   "cell_type": "code",
   "execution_count": 17,
   "metadata": {},
   "outputs": [],
   "source": [
    "## fresh tweets\n",
    "import re\n",
    "tweets={}\n",
    "max_tweets = 500\n",
    "tweets['trump'] = [re.sub(r'[-.#/?!,\":;()\\']',' ',tweet.lower())\n",
    "                   for tweet in get_tweets(t,'#trump', max_tweets)]"
   ]
  },
  {
   "cell_type": "code",
   "execution_count": 28,
   "metadata": {},
   "outputs": [],
   "source": [
    "tweets['putin'] = [re.sub(r'[-.#/?!,\":;()\\']',' ',tweet.lower())\n",
    "                    for tweet in get_tweets(t,'#putin', max_tweets )]"
   ]
  },
  {
   "cell_type": "code",
   "execution_count": 19,
   "metadata": {},
   "outputs": [],
   "source": [
    "tweets['modi'] = [re.sub(r'[-.#/?!,\":;()\\']',' ',tweet.lower())\n",
    "    for tweet in get_tweets(t,'#modi', max_tweets )]"
   ]
  },
  {
   "cell_type": "code",
   "execution_count": 21,
   "metadata": {},
   "outputs": [],
   "source": [
    "positive_words = open('C:/Data/positive-words.txt').read().split('\\n')"
   ]
  },
  {
   "cell_type": "code",
   "execution_count": 22,
   "metadata": {},
   "outputs": [],
   "source": [
    "negative_words = open('C:/Data/negative-words.txt').read().split('\\n')"
   ]
  },
  {
   "cell_type": "code",
   "execution_count": 23,
   "metadata": {},
   "outputs": [],
   "source": [
    "def sentiment_score(text, pos_list, neg_list):\n",
    "    positive_score = 0\n",
    "    negative_score = 0\n",
    "        \n",
    "    for w in text.split(' '):\n",
    "        if w in pos_list: positive_score+=1\n",
    "        if w in neg_list: negative_score+=1\n",
    "    return positive_score-negative_score"
   ]
  },
  {
   "cell_type": "code",
   "execution_count": 24,
   "metadata": {},
   "outputs": [],
   "source": [
    "tweets_sentiment = {}"
   ]
  },
  {
   "cell_type": "code",
   "execution_count": 25,
   "metadata": {},
   "outputs": [],
   "source": [
    "tweets_sentiment['trump'] = [\n",
    "    sentiment_score(tweet,positive_words,negative_words)\n",
    "    for tweet in  tweets['trump'] ]"
   ]
  },
  {
   "cell_type": "code",
   "execution_count": 29,
   "metadata": {},
   "outputs": [],
   "source": [
    "tweets_sentiment['putin'] = [\n",
    "    sentiment_score(tweet,positive_words,negative_words)\n",
    "    for tweet in tweets['putin'] ]"
   ]
  },
  {
   "cell_type": "code",
   "execution_count": 30,
   "metadata": {},
   "outputs": [],
   "source": [
    "tweets_sentiment['modi'] = [\n",
    "    sentiment_score(tweet,positive_words,negative_words)\n",
    "    for tweet in tweets['modi'] ]"
   ]
  },
  {
   "cell_type": "code",
   "execution_count": 32,
   "metadata": {},
   "outputs": [],
   "source": [
    "#tweets_sentiment['xijinping'] = [\n",
    "#    sentiment_score(tweet,positive_words,negative_words)\n",
    "#    for tweet in tweets['xijinping'] ]"
   ]
  },
  {
   "cell_type": "code",
   "execution_count": 33,
   "metadata": {},
   "outputs": [],
   "source": [
    "import matplotlib.pyplot as plt"
   ]
  },
  {
   "cell_type": "code",
   "execution_count": 40,
   "metadata": {},
   "outputs": [
    {
     "data": {
      "image/png": "[encoded data removed]",
      "text/plain": [
       "<Figure size 432x288 with 1 Axes>"
      ]
     },
     "metadata": {
      "needs_background": "light"
     },
     "output_type": "display_data"
    }
   ],
   "source": [
    "trump = plt.hist(tweets_sentiment['trump'],5,facecolor='green',alpha=0.5)\n",
    "plt.xlabel('Trump Sentiment Score')\n",
    "_=plt.xlim([-4,4])"
   ]
  },
  {
   "cell_type": "code",
   "execution_count": 41,
   "metadata": {},
   "outputs": [
    {
     "data": {
      "image/png": "[encoded data removed]",
      "text/plain": [
       "<Figure size 432x288 with 1 Axes>"
      ]
     },
     "metadata": {
      "needs_background": "light"
     },
     "output_type": "display_data"
    }
   ],
   "source": [
    "putin=plt.hist(tweets_sentiment['putin'],5,facecolor='red',alpha=0.5)\n",
    "plt.xlabel('Putin Sentiment Score')\n",
    "_=plt.xlim([-4,4])"
   ]
  },
  {
   "cell_type": "code",
   "execution_count": 42,
   "metadata": {},
   "outputs": [
    {
     "data": {
      "image/png": "[encoded data removed]",
      "text/plain": [
       "<Figure size 432x288 with 1 Axes>"
      ]
     },
     "metadata": {
      "needs_background": "light"
     },
     "output_type": "display_data"
    }
   ],
   "source": [
    "modi = plt.hist(tweets_sentiment['modi'], 5,facecolor='blue', alpha=0.5)\n",
    "plt.xlabel('Modi Sentiment Score')\n",
    "_=plt.xlim([-4,4])"
   ]
  },
  {
   "cell_type": "code",
   "execution_count": null,
   "metadata": {},
   "outputs": [],
   "source": []
  }
 ],
 "metadata": {
  "kernelspec": {
   "display_name": "Python 3",
   "language": "python",
   "name": "python3"
  },
  "language_info": {
   "codemirror_mode": {
    "name": "ipython",
    "version": 3
   },
   "file_extension": ".py",
   "mimetype": "text/x-python",
   "name": "python",
   "nbconvert_exporter": "python",
   "pygments_lexer": "ipython3",
   "version": "3.7.3"
  }
 },
 "nbformat": 4,
 "nbformat_minor": 2
}
