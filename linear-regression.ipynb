{
 "cells": [
  {
   "cell_type": "code",
   "execution_count": null,
   "metadata": {},
   "outputs": [],
   "source": [
    "## using Men_height_weight.csv for linear regression"
   ]
  },
  {
   "cell_type": "code",
   "execution_count": 1,
   "metadata": {},
   "outputs": [],
   "source": [
    "import numpy as np\n",
    "import pandas as pd\n",
    "from scipy import stats\n",
    "import matplotlib.pyplot as plt"
   ]
  },
  {
   "cell_type": "code",
   "execution_count": 2,
   "metadata": {},
   "outputs": [],
   "source": [
    "s1_data = pd.read_csv('C:\\data\\Mens_height_weight.csv')"
   ]
  },
  {
   "cell_type": "code",
   "execution_count": 4,
   "metadata": {},
   "outputs": [
    {
     "data": {
      "image/png": "[encoded data removed]",
      "text/plain": [
       "<Figure size 432x288 with 1 Axes>"
      ]
     },
     "metadata": {
      "needs_background": "light"
     },
     "output_type": "display_data"
    }
   ],
   "source": [
    "fig, ax = plt.subplots(1,1)\n",
    "ax.scatter(s1_data['Height'], s1_data['Weight'])\n",
    "ax.set_xlabel('Height')\n",
    "ax.set_ylabel('Weight')\n",
    "plt.show()"
   ]
  },
  {
   "cell_type": "code",
   "execution_count": null,
   "metadata": {},
   "outputs": [],
   "source": [
    "## lets see how the variables are correlated to each other as follows"
   ]
  },
  {
   "cell_type": "code",
   "execution_count": 5,
   "metadata": {
    "scrolled": true
   },
   "outputs": [
    {
     "data": {
      "text/html": [
       "<div>\n",
       "<style scoped>\n",
       "    .dataframe tbody tr th:only-of-type {\n",
       "        vertical-align: middle;\n",
       "    }\n",
       "\n",
       "    .dataframe tbody tr th {\n",
       "        vertical-align: top;\n",
       "    }\n",
       "\n",
       "    .dataframe thead th {\n",
       "        text-align: right;\n",
       "    }\n",
       "</style>\n",
       "<table border=\"1\" class=\"dataframe\">\n",
       "  <thead>\n",
       "    <tr style=\"text-align: right;\">\n",
       "      <th></th>\n",
       "      <th>Height</th>\n",
       "      <th>Weight</th>\n",
       "    </tr>\n",
       "  </thead>\n",
       "  <tbody>\n",
       "    <tr>\n",
       "      <th>Height</th>\n",
       "      <td>1.000000</td>\n",
       "      <td>0.942603</td>\n",
       "    </tr>\n",
       "    <tr>\n",
       "      <th>Weight</th>\n",
       "      <td>0.942603</td>\n",
       "      <td>1.000000</td>\n",
       "    </tr>\n",
       "  </tbody>\n",
       "</table>\n",
       "</div>"
      ],
      "text/plain": [
       "          Height    Weight\n",
       "Height  1.000000  0.942603\n",
       "Weight  0.942603  1.000000"
      ]
     },
     "execution_count": 5,
     "metadata": {},
     "output_type": "execute_result"
    }
   ],
   "source": [
    "s1_data.corr()"
   ]
  },
  {
   "cell_type": "code",
   "execution_count": null,
   "metadata": {},
   "outputs": [],
   "source": [
    "### pearson correlation value coefficient of 0.94\n",
    "### correlation ranges from -1 to +1, "
   ]
  },
  {
   "cell_type": "code",
   "execution_count": 9,
   "metadata": {},
   "outputs": [],
   "source": [
    "# Create linear regression object\n",
    "from sklearn.linear_model import LinearRegression\n",
    "lm = LinearRegression()"
   ]
  },
  {
   "cell_type": "code",
   "execution_count": 10,
   "metadata": {},
   "outputs": [
    {
     "data": {
      "text/plain": [
       "LinearRegression(copy_X=True, fit_intercept=True, n_jobs=None, normalize=False)"
      ]
     },
     "execution_count": 10,
     "metadata": {},
     "output_type": "execute_result"
    }
   ],
   "source": [
    "# Train the model using the training sets\n",
    "lm.fit(s1_data.Height[:,np.newaxis], s1_data.Weight)"
   ]
  },
  {
   "cell_type": "code",
   "execution_count": 12,
   "metadata": {},
   "outputs": [
    {
     "name": "stdout",
     "output_type": "stream",
     "text": [
      "Intercept is -99.2772096062733\n"
     ]
    }
   ],
   "source": [
    "print('Intercept is ' + str(lm.intercept_) )"
   ]
  },
  {
   "cell_type": "code",
   "execution_count": 13,
   "metadata": {},
   "outputs": [
    {
     "name": "stdout",
     "output_type": "stream",
     "text": [
      "Coefficient value of the height is [1.00092142]\n"
     ]
    }
   ],
   "source": [
    "print ('Coefficient value of the height is ' + str(lm.coef_))"
   ]
  },
  {
   "cell_type": "code",
   "execution_count": 14,
   "metadata": {},
   "outputs": [
    {
     "name": "stdout",
     "output_type": "stream",
     "text": [
      "  features  estimatedCoefficients\n",
      "0   Height               1.000921\n"
     ]
    }
   ],
   "source": [
    "print (pd.DataFrame(zip(s1_data.columns, lm.coef_), columns=['features','estimatedCoefficients']))"
   ]
  },
  {
   "cell_type": "code",
   "execution_count": 15,
   "metadata": {},
   "outputs": [
    {
     "data": {
      "image/png": "[encoded data removed]",
      "text/plain": [
       "<Figure size 432x288 with 1 Axes>"
      ]
     },
     "metadata": {
      "needs_background": "light"
     },
     "output_type": "display_data"
    }
   ],
   "source": [
    "fig, ax = plt.subplots(1,1)\n",
    "ax.scatter(s1_data.Height, s1_data.Weight)\n",
    "ax.plot(s1_data.Height, lm.predict(s1_data.Height[:, np.newaxis]),color='red')\n",
    "ax.set_xlabel('Height')\n",
    "ax.set_ylabel('Weight')\n",
    "plt.show()"
   ]
  },
  {
   "cell_type": "code",
   "execution_count": 16,
   "metadata": {},
   "outputs": [],
   "source": [
    "# Multiple Linear regression occurs when more than one independant\n",
    "## variable is used to predict a dependant variable\n",
    "## Y' = a+b1x1+b2x2+.....+bnxn\n",
    "## note that squaring the dependent variable still makes it linear,\n",
    "## but if the coefficient is squared, then it is nonlinear"
   ]
  },
  {
   "cell_type": "code",
   "execution_count": 19,
   "metadata": {
    "scrolled": true
   },
   "outputs": [
    {
     "data": {
      "text/html": [
       "<div>\n",
       "<style scoped>\n",
       "    .dataframe tbody tr th:only-of-type {\n",
       "        vertical-align: middle;\n",
       "    }\n",
       "\n",
       "    .dataframe tbody tr th {\n",
       "        vertical-align: top;\n",
       "    }\n",
       "\n",
       "    .dataframe thead th {\n",
       "        text-align: right;\n",
       "    }\n",
       "</style>\n",
       "<table border=\"1\" class=\"dataframe\">\n",
       "  <thead>\n",
       "    <tr style=\"text-align: right;\">\n",
       "      <th></th>\n",
       "      <th>height</th>\n",
       "      <th>weight</th>\n",
       "      <th>success_field_goals</th>\n",
       "      <th>success_free_throws</th>\n",
       "      <th>avg_points_scored</th>\n",
       "    </tr>\n",
       "  </thead>\n",
       "  <tbody>\n",
       "    <tr>\n",
       "      <th>count</th>\n",
       "      <td>54.000000</td>\n",
       "      <td>54.000000</td>\n",
       "      <td>54.000000</td>\n",
       "      <td>54.000000</td>\n",
       "      <td>54.000000</td>\n",
       "    </tr>\n",
       "    <tr>\n",
       "      <th>mean</th>\n",
       "      <td>6.587037</td>\n",
       "      <td>209.907407</td>\n",
       "      <td>0.449111</td>\n",
       "      <td>0.741852</td>\n",
       "      <td>11.790741</td>\n",
       "    </tr>\n",
       "    <tr>\n",
       "      <th>std</th>\n",
       "      <td>0.458894</td>\n",
       "      <td>30.265036</td>\n",
       "      <td>0.056551</td>\n",
       "      <td>0.100146</td>\n",
       "      <td>5.899257</td>\n",
       "    </tr>\n",
       "    <tr>\n",
       "      <th>min</th>\n",
       "      <td>5.700000</td>\n",
       "      <td>105.000000</td>\n",
       "      <td>0.291000</td>\n",
       "      <td>0.244000</td>\n",
       "      <td>2.800000</td>\n",
       "    </tr>\n",
       "    <tr>\n",
       "      <th>25%</th>\n",
       "      <td>6.225000</td>\n",
       "      <td>185.000000</td>\n",
       "      <td>0.415250</td>\n",
       "      <td>0.713000</td>\n",
       "      <td>8.150000</td>\n",
       "    </tr>\n",
       "    <tr>\n",
       "      <th>50%</th>\n",
       "      <td>6.650000</td>\n",
       "      <td>212.500000</td>\n",
       "      <td>0.443500</td>\n",
       "      <td>0.753500</td>\n",
       "      <td>10.750000</td>\n",
       "    </tr>\n",
       "    <tr>\n",
       "      <th>75%</th>\n",
       "      <td>6.900000</td>\n",
       "      <td>235.000000</td>\n",
       "      <td>0.483500</td>\n",
       "      <td>0.795250</td>\n",
       "      <td>13.600000</td>\n",
       "    </tr>\n",
       "    <tr>\n",
       "      <th>max</th>\n",
       "      <td>7.600000</td>\n",
       "      <td>263.000000</td>\n",
       "      <td>0.599000</td>\n",
       "      <td>0.900000</td>\n",
       "      <td>27.400000</td>\n",
       "    </tr>\n",
       "  </tbody>\n",
       "</table>\n",
       "</div>"
      ],
      "text/plain": [
       "          height      weight  success_field_goals  success_free_throws  \\\n",
       "count  54.000000   54.000000            54.000000            54.000000   \n",
       "mean    6.587037  209.907407             0.449111             0.741852   \n",
       "std     0.458894   30.265036             0.056551             0.100146   \n",
       "min     5.700000  105.000000             0.291000             0.244000   \n",
       "25%     6.225000  185.000000             0.415250             0.713000   \n",
       "50%     6.650000  212.500000             0.443500             0.753500   \n",
       "75%     6.900000  235.000000             0.483500             0.795250   \n",
       "max     7.600000  263.000000             0.599000             0.900000   \n",
       "\n",
       "       avg_points_scored  \n",
       "count          54.000000  \n",
       "mean           11.790741  \n",
       "std             5.899257  \n",
       "min             2.800000  \n",
       "25%             8.150000  \n",
       "50%            10.750000  \n",
       "75%            13.600000  \n",
       "max            27.400000  "
      ]
     },
     "execution_count": 19,
     "metadata": {},
     "output_type": "execute_result"
    }
   ],
   "source": [
    "b_data=pd.read_csv(\"C:\\\\data\\\\basketball.csv\")\n",
    "b_data.describe()"
   ]
  },
  {
   "cell_type": "code",
   "execution_count": null,
   "metadata": {},
   "outputs": [],
   "source": [
    "# The average  height of a basketball player is around 6.5ft\n",
    "# The shortest player is 5.7 ft\n",
    "# The tallest player is 7.7 ft\n",
    "# the palyer with least weight is at 105 pounds, which is quite obscure\n",
    "# the heaviest player is 263 pounds\n",
    "# the best field goal percentage for a player is 60%\n",
    "# the worst field goal percentage for a player is 29%\n",
    "# the average field goal attempt for a player is 45%, but\n",
    "# - from the small standard deviation, we can see that a majority\n",
    "# of the players have a field goal percentage between 40 and 50%\n",
    "# Among free throws, there is a player who misses 3/4th of the time\n",
    "# the best free throw player has 90% success rate\n",
    "# The most of the players have a success percentage for free throws \n",
    "# - around  70 to 80%\n",
    "# the highest score scored per game by a player is 27\n",
    "# the least scored is 3\n",
    "# On an average, the players score 12 points"
   ]
  },
  {
   "cell_type": "code",
   "execution_count": 20,
   "metadata": {},
   "outputs": [
    {
     "data": {
      "text/html": [
       "<div>\n",
       "<style scoped>\n",
       "    .dataframe tbody tr th:only-of-type {\n",
       "        vertical-align: middle;\n",
       "    }\n",
       "\n",
       "    .dataframe tbody tr th {\n",
       "        vertical-align: top;\n",
       "    }\n",
       "\n",
       "    .dataframe thead th {\n",
       "        text-align: right;\n",
       "    }\n",
       "</style>\n",
       "<table border=\"1\" class=\"dataframe\">\n",
       "  <thead>\n",
       "    <tr style=\"text-align: right;\">\n",
       "      <th></th>\n",
       "      <th>height</th>\n",
       "      <th>weight</th>\n",
       "      <th>success_field_goals</th>\n",
       "      <th>success_free_throws</th>\n",
       "      <th>avg_points_scored</th>\n",
       "    </tr>\n",
       "  </thead>\n",
       "  <tbody>\n",
       "    <tr>\n",
       "      <th>height</th>\n",
       "      <td>1.000000</td>\n",
       "      <td>0.834324</td>\n",
       "      <td>0.495546</td>\n",
       "      <td>-0.259271</td>\n",
       "      <td>-0.068906</td>\n",
       "    </tr>\n",
       "    <tr>\n",
       "      <th>weight</th>\n",
       "      <td>0.834324</td>\n",
       "      <td>1.000000</td>\n",
       "      <td>0.516051</td>\n",
       "      <td>-0.290159</td>\n",
       "      <td>-0.009844</td>\n",
       "    </tr>\n",
       "    <tr>\n",
       "      <th>success_field_goals</th>\n",
       "      <td>0.495546</td>\n",
       "      <td>0.516051</td>\n",
       "      <td>1.000000</td>\n",
       "      <td>-0.018570</td>\n",
       "      <td>0.338760</td>\n",
       "    </tr>\n",
       "    <tr>\n",
       "      <th>success_free_throws</th>\n",
       "      <td>-0.259271</td>\n",
       "      <td>-0.290159</td>\n",
       "      <td>-0.018570</td>\n",
       "      <td>1.000000</td>\n",
       "      <td>0.244852</td>\n",
       "    </tr>\n",
       "    <tr>\n",
       "      <th>avg_points_scored</th>\n",
       "      <td>-0.068906</td>\n",
       "      <td>-0.009844</td>\n",
       "      <td>0.338760</td>\n",
       "      <td>0.244852</td>\n",
       "      <td>1.000000</td>\n",
       "    </tr>\n",
       "  </tbody>\n",
       "</table>\n",
       "</div>"
      ],
      "text/plain": [
       "                       height    weight  success_field_goals  \\\n",
       "height               1.000000  0.834324             0.495546   \n",
       "weight               0.834324  1.000000             0.516051   \n",
       "success_field_goals  0.495546  0.516051             1.000000   \n",
       "success_free_throws -0.259271 -0.290159            -0.018570   \n",
       "avg_points_scored   -0.068906 -0.009844             0.338760   \n",
       "\n",
       "                     success_free_throws  avg_points_scored  \n",
       "height                         -0.259271          -0.068906  \n",
       "weight                         -0.290159          -0.009844  \n",
       "success_field_goals            -0.018570           0.338760  \n",
       "success_free_throws             1.000000           0.244852  \n",
       "avg_points_scored               0.244852           1.000000  "
      ]
     },
     "execution_count": 20,
     "metadata": {},
     "output_type": "execute_result"
    }
   ],
   "source": [
    "b_data.corr()"
   ]
  },
  {
   "cell_type": "code",
   "execution_count": null,
   "metadata": {},
   "outputs": [],
   "source": [
    "# there is hight correlation between height and weight\n",
    "# there is a weak positive correlation between successful field goals \n",
    "# --in terms of height and weight\n",
    "# The average points scored seem to have the maximum correlation with\n",
    "# --success_field_goals, buty they'r not hightly correlated"
   ]
  },
  {
   "cell_type": "code",
   "execution_count": 22,
   "metadata": {},
   "outputs": [
    {
     "data": {
      "image/png": "[encoded data removed]",
      "text/plain": [
       "<Figure size 432x288 with 1 Axes>"
      ]
     },
     "metadata": {
      "needs_background": "light"
     },
     "output_type": "display_data"
    }
   ],
   "source": [
    "# Let's see the distribution of each independant variables w.r.t\n",
    "# --dependant variable\n",
    "fig, ax = plt.subplots(1,1)\n",
    "ax.scatter(b_data.height, b_data.avg_points_scored)\n",
    "ax.set_xlabel('height')\n",
    "ax.set_ylabel('Average points scored per game')\n",
    "plt.show()"
   ]
  },
  {
   "cell_type": "code",
   "execution_count": 23,
   "metadata": {},
   "outputs": [
    {
     "data": {
      "image/png": "[encoded data removed]",
      "text/plain": [
       "<Figure size 432x288 with 1 Axes>"
      ]
     },
     "metadata": {
      "needs_background": "light"
     },
     "output_type": "display_data"
    }
   ],
   "source": [
    "#lets look at the distribution between average points scored and the weight\n",
    "fig, ax = plt.subplots(1,1)\n",
    "ax.scatter(b_data.weight, b_data.avg_points_scored)\n",
    "ax.set_xlabel('weight')\n",
    "ax.set_ylabel('Average points scored per game')\n",
    "plt.show()"
   ]
  },
  {
   "cell_type": "code",
   "execution_count": null,
   "metadata": {},
   "outputs": [],
   "source": [
    "# we can see that 105 pounds seems like an outlier and also has\n",
    "# --a relatively lower average point score. We can see that players\n",
    "# --"
   ]
  },
  {
   "cell_type": "code",
   "execution_count": 24,
   "metadata": {
    "scrolled": true
   },
   "outputs": [
    {
     "data": {
      "image/png": "[encoded data removed]",
      "text/plain": [
       "<Figure size 432x288 with 1 Axes>"
      ]
     },
     "metadata": {
      "needs_background": "light"
     },
     "output_type": "display_data"
    }
   ],
   "source": [
    "#Lets look at the distribution between successful field goals\n",
    "# and the average points scored:\n",
    "fig, ax = plt.subplots(1,1)\n",
    "ax.scatter(b_data.success_field_goals, b_data.avg_points_scored)\n",
    "ax.set_xlabel('success_field_goals')\n",
    "ax.set_ylabel('Average points scored per game')\n",
    "plt.show()"
   ]
  },
  {
   "cell_type": "code",
   "execution_count": null,
   "metadata": {},
   "outputs": [],
   "source": [
    "## success_field_goals variables has some linear relationship with the\n",
    "## average points scored, but the distinction is still quite scattered"
   ]
  },
  {
   "cell_type": "code",
   "execution_count": 26,
   "metadata": {},
   "outputs": [
    {
     "data": {
      "image/png": "[encoded data removed]",
      "text/plain": [
       "<Figure size 432x288 with 1 Axes>"
      ]
     },
     "metadata": {
      "needs_background": "light"
     },
     "output_type": "display_data"
    }
   ],
   "source": [
    "## lets look at the distribution between successful free throws and\n",
    "## and the average points scored per game:\n",
    "fig, ax = plt.subplots(1,1)\n",
    "ax.scatter(b_data.success_free_throws, b_data.avg_points_scored)\n",
    "ax.set_xlabel('success_free_throws')\n",
    "ax.set_ylabel('Average points scored per game')\n",
    "plt.show()"
   ]
  },
  {
   "cell_type": "code",
   "execution_count": null,
   "metadata": {},
   "outputs": [],
   "source": [
    "## we can see there is a player whose free throws are quite bad,\n",
    "## but the average points scored seem to be close to a average \n",
    "## as compared to other players, which means that he would be better\n",
    "## at half field goals or he would make a lot of attempts to score\n",
    "## The overall distribution here is also quite scattered"
   ]
  },
  {
   "cell_type": "code",
   "execution_count": null,
   "metadata": {},
   "outputs": [],
   "source": [
    "# Training and testing a model"
   ]
  },
  {
   "cell_type": "code",
   "execution_count": 29,
   "metadata": {
    "scrolled": true
   },
   "outputs": [],
   "source": [
    "from sklearn import linear_model, feature_selection, preprocessing"
   ]
  },
  {
   "cell_type": "code",
   "execution_count": 34,
   "metadata": {},
   "outputs": [],
   "source": [
    "from sklearn.model_selection import cross_validate\n",
    "from sklearn.model_selection import train_test_split"
   ]
  },
  {
   "cell_type": "code",
   "execution_count": 32,
   "metadata": {},
   "outputs": [],
   "source": [
    "import statsmodels.formula.api as sm\n",
    "from statsmodels.tools.eval_measures import mse\n",
    "from statsmodels.tools.tools import add_constant\n",
    "from sklearn.metrics import mean_squared_error"
   ]
  },
  {
   "cell_type": "code",
   "execution_count": 35,
   "metadata": {},
   "outputs": [],
   "source": [
    "X = b_data.values.copy()\n",
    "X_train, X_valid, y_train, y_valid = train_test_split(X[:, :-1], X[:,-1],train_size=0.80)"
   ]
  },
  {
   "cell_type": "code",
   "execution_count": null,
   "metadata": {},
   "outputs": [],
   "source": [
    "## SciKit package"
   ]
  },
  {
   "cell_type": "code",
   "execution_count": null,
   "metadata": {},
   "outputs": [],
   "source": [
    "## pandas provides an Ordinary Least Square regression, is a method to estimate\n",
    "## unknown coefficients and intercepts for a regression equation."
   ]
  },
  {
   "cell_type": "code",
   "execution_count": 37,
   "metadata": {
    "scrolled": false
   },
   "outputs": [
    {
     "data": {
      "text/html": [
       "<table class=\"simpletable\">\n",
       "<caption>OLS Regression Results</caption>\n",
       "<tr>\n",
       "  <th>Dep. Variable:</th>            <td>y</td>        <th>  R-squared:         </th> <td>   0.183</td>\n",
       "</tr>\n",
       "<tr>\n",
       "  <th>Model:</th>                   <td>OLS</td>       <th>  Adj. R-squared:    </th> <td>   0.097</td>\n",
       "</tr>\n",
       "<tr>\n",
       "  <th>Method:</th>             <td>Least Squares</td>  <th>  F-statistic:       </th> <td>   2.123</td>\n",
       "</tr>\n",
       "<tr>\n",
       "  <th>Date:</th>             <td>Fri, 04 Oct 2019</td> <th>  Prob (F-statistic):</th>  <td>0.0968</td> \n",
       "</tr>\n",
       "<tr>\n",
       "  <th>Time:</th>                 <td>22:59:59</td>     <th>  Log-Likelihood:    </th> <td> -132.45</td>\n",
       "</tr>\n",
       "<tr>\n",
       "  <th>No. Observations:</th>      <td>    43</td>      <th>  AIC:               </th> <td>   274.9</td>\n",
       "</tr>\n",
       "<tr>\n",
       "  <th>Df Residuals:</th>          <td>    38</td>      <th>  BIC:               </th> <td>   283.7</td>\n",
       "</tr>\n",
       "<tr>\n",
       "  <th>Df Model:</th>              <td>     4</td>      <th>                     </th>     <td> </td>   \n",
       "</tr>\n",
       "<tr>\n",
       "  <th>Covariance Type:</th>      <td>nonrobust</td>    <th>                     </th>     <td> </td>   \n",
       "</tr>\n",
       "</table>\n",
       "<table class=\"simpletable\">\n",
       "<tr>\n",
       "    <td></td>       <th>coef</th>     <th>std err</th>      <th>t</th>      <th>P>|t|</th>  <th>[0.025</th>    <th>0.975]</th>  \n",
       "</tr>\n",
       "<tr>\n",
       "  <th>const</th> <td>   -8.6893</td> <td>   19.286</td> <td>   -0.451</td> <td> 0.655</td> <td>  -47.732</td> <td>   30.353</td>\n",
       "</tr>\n",
       "<tr>\n",
       "  <th>x1</th>    <td>    0.2464</td> <td>    4.186</td> <td>    0.059</td> <td> 0.953</td> <td>   -8.227</td> <td>    8.720</td>\n",
       "</tr>\n",
       "<tr>\n",
       "  <th>x2</th>    <td>   -0.0389</td> <td>    0.059</td> <td>   -0.661</td> <td> 0.513</td> <td>   -0.158</td> <td>    0.080</td>\n",
       "</tr>\n",
       "<tr>\n",
       "  <th>x3</th>    <td>   39.3574</td> <td>   17.761</td> <td>    2.216</td> <td> 0.033</td> <td>    3.401</td> <td>   75.314</td>\n",
       "</tr>\n",
       "<tr>\n",
       "  <th>x4</th>    <td>   12.4580</td> <td>    8.900</td> <td>    1.400</td> <td> 0.170</td> <td>   -5.558</td> <td>   30.474</td>\n",
       "</tr>\n",
       "</table>\n",
       "<table class=\"simpletable\">\n",
       "<tr>\n",
       "  <th>Omnibus:</th>       <td> 9.059</td> <th>  Durbin-Watson:     </th> <td>   2.050</td>\n",
       "</tr>\n",
       "<tr>\n",
       "  <th>Prob(Omnibus):</th> <td> 0.011</td> <th>  Jarque-Bera (JB):  </th> <td>   8.182</td>\n",
       "</tr>\n",
       "<tr>\n",
       "  <th>Skew:</th>          <td> 1.006</td> <th>  Prob(JB):          </th> <td>  0.0167</td>\n",
       "</tr>\n",
       "<tr>\n",
       "  <th>Kurtosis:</th>      <td> 3.719</td> <th>  Cond. No.          </th> <td>4.93e+03</td>\n",
       "</tr>\n",
       "</table><br/><br/>Warnings:<br/>[1] Standard Errors assume that the covariance matrix of the errors is correctly specified.<br/>[2] The condition number is large, 4.93e+03. This might indicate that there are<br/>strong multicollinearity or other numerical problems."
      ],
      "text/plain": [
       "<class 'statsmodels.iolib.summary.Summary'>\n",
       "\"\"\"\n",
       "                            OLS Regression Results                            \n",
       "==============================================================================\n",
       "Dep. Variable:                      y   R-squared:                       0.183\n",
       "Model:                            OLS   Adj. R-squared:                  0.097\n",
       "Method:                 Least Squares   F-statistic:                     2.123\n",
       "Date:                Fri, 04 Oct 2019   Prob (F-statistic):             0.0968\n",
       "Time:                        22:59:59   Log-Likelihood:                -132.45\n",
       "No. Observations:                  43   AIC:                             274.9\n",
       "Df Residuals:                      38   BIC:                             283.7\n",
       "Df Model:                           4                                         \n",
       "Covariance Type:            nonrobust                                         \n",
       "==============================================================================\n",
       "                 coef    std err          t      P>|t|      [0.025      0.975]\n",
       "------------------------------------------------------------------------------\n",
       "const         -8.6893     19.286     -0.451      0.655     -47.732      30.353\n",
       "x1             0.2464      4.186      0.059      0.953      -8.227       8.720\n",
       "x2            -0.0389      0.059     -0.661      0.513      -0.158       0.080\n",
       "x3            39.3574     17.761      2.216      0.033       3.401      75.314\n",
       "x4            12.4580      8.900      1.400      0.170      -5.558      30.474\n",
       "==============================================================================\n",
       "Omnibus:                        9.059   Durbin-Watson:                   2.050\n",
       "Prob(Omnibus):                  0.011   Jarque-Bera (JB):                8.182\n",
       "Skew:                           1.006   Prob(JB):                       0.0167\n",
       "Kurtosis:                       3.719   Cond. No.                     4.93e+03\n",
       "==============================================================================\n",
       "\n",
       "Warnings:\n",
       "[1] Standard Errors assume that the covariance matrix of the errors is correctly specified.\n",
       "[2] The condition number is large, 4.93e+03. This might indicate that there are\n",
       "strong multicollinearity or other numerical problems.\n",
       "\"\"\""
      ]
     },
     "execution_count": 37,
     "metadata": {},
     "output_type": "execute_result"
    }
   ],
   "source": [
    "## statsmodels module\n",
    "import statsmodels.api as sm\n",
    "result = sm.OLS(y_train, add_constant(X_train)).fit()\n",
    "result.summary()"
   ]
  },
  {
   "cell_type": "code",
   "execution_count": null,
   "metadata": {},
   "outputs": [],
   "source": [
    "## OLS function helps in creating the linear regression object with\n",
    "## a dependant and independant variable\n",
    "## add_constant() function, which is used to calculate the intercept\n",
    "## while creating the model. By default OLS() function won't \n",
    "## calculate the intercept, and it has to be explicitly mentioned\n",
    "## with the help of the add_constant function. \n"
   ]
  },
  {
   "cell_type": "code",
   "execution_count": null,
   "metadata": {},
   "outputs": [],
   "source": [
    "## R square value tells that how much of the variance of the\n",
    "## dependant variable is captured by the model. It ranges from 0 to 1\n",
    "# p value tells us if the model is significant"
   ]
  },
  {
   "cell_type": "code",
   "execution_count": null,
   "metadata": {},
   "outputs": [],
   "source": [
    "#  we can see that the R-square value is 0.183, which isn't great.\n",
    "# We can see that the model shows x3 as the most significant variable,\n",
    "# which is the success_field_goals variable. As a rule of thumb,\n",
    "# any p value of a variable less than 0.05 can be considered significant"
   ]
  },
  {
   "cell_type": "code",
   "execution_count": 38,
   "metadata": {},
   "outputs": [
    {
     "data": {
      "text/html": [
       "<table class=\"simpletable\">\n",
       "<caption>OLS Regression Results</caption>\n",
       "<tr>\n",
       "  <th>Dep. Variable:</th>            <td>y</td>        <th>  R-squared:         </th> <td>   0.080</td>\n",
       "</tr>\n",
       "<tr>\n",
       "  <th>Model:</th>                   <td>OLS</td>       <th>  Adj. R-squared:    </th> <td>   0.057</td>\n",
       "</tr>\n",
       "<tr>\n",
       "  <th>Method:</th>             <td>Least Squares</td>  <th>  F-statistic:       </th> <td>   3.547</td>\n",
       "</tr>\n",
       "<tr>\n",
       "  <th>Date:</th>             <td>Fri, 04 Oct 2019</td> <th>  Prob (F-statistic):</th>  <td>0.0667</td> \n",
       "</tr>\n",
       "<tr>\n",
       "  <th>Time:</th>                 <td>23:13:57</td>     <th>  Log-Likelihood:    </th> <td> -135.01</td>\n",
       "</tr>\n",
       "<tr>\n",
       "  <th>No. Observations:</th>      <td>    43</td>      <th>  AIC:               </th> <td>   274.0</td>\n",
       "</tr>\n",
       "<tr>\n",
       "  <th>Df Residuals:</th>          <td>    41</td>      <th>  BIC:               </th> <td>   277.5</td>\n",
       "</tr>\n",
       "<tr>\n",
       "  <th>Df Model:</th>              <td>     1</td>      <th>                     </th>     <td> </td>   \n",
       "</tr>\n",
       "<tr>\n",
       "  <th>Covariance Type:</th>      <td>nonrobust</td>    <th>                     </th>     <td> </td>   \n",
       "</tr>\n",
       "</table>\n",
       "<table class=\"simpletable\">\n",
       "<tr>\n",
       "    <td></td>       <th>coef</th>     <th>std err</th>      <th>t</th>      <th>P>|t|</th>  <th>[0.025</th>    <th>0.975]</th>  \n",
       "</tr>\n",
       "<tr>\n",
       "  <th>const</th> <td>   -1.0775</td> <td>    6.985</td> <td>   -0.154</td> <td> 0.878</td> <td>  -15.183</td> <td>   13.028</td>\n",
       "</tr>\n",
       "<tr>\n",
       "  <th>x1</th>    <td>   28.7945</td> <td>   15.288</td> <td>    1.883</td> <td> 0.067</td> <td>   -2.081</td> <td>   59.670</td>\n",
       "</tr>\n",
       "</table>\n",
       "<table class=\"simpletable\">\n",
       "<tr>\n",
       "  <th>Omnibus:</th>       <td> 6.141</td> <th>  Durbin-Watson:     </th> <td>   1.871</td>\n",
       "</tr>\n",
       "<tr>\n",
       "  <th>Prob(Omnibus):</th> <td> 0.046</td> <th>  Jarque-Bera (JB):  </th> <td>   5.143</td>\n",
       "</tr>\n",
       "<tr>\n",
       "  <th>Skew:</th>          <td> 0.827</td> <th>  Prob(JB):          </th> <td>  0.0764</td>\n",
       "</tr>\n",
       "<tr>\n",
       "  <th>Kurtosis:</th>      <td> 3.366</td> <th>  Cond. No.          </th> <td>    21.1</td>\n",
       "</tr>\n",
       "</table><br/><br/>Warnings:<br/>[1] Standard Errors assume that the covariance matrix of the errors is correctly specified."
      ],
      "text/plain": [
       "<class 'statsmodels.iolib.summary.Summary'>\n",
       "\"\"\"\n",
       "                            OLS Regression Results                            \n",
       "==============================================================================\n",
       "Dep. Variable:                      y   R-squared:                       0.080\n",
       "Model:                            OLS   Adj. R-squared:                  0.057\n",
       "Method:                 Least Squares   F-statistic:                     3.547\n",
       "Date:                Fri, 04 Oct 2019   Prob (F-statistic):             0.0667\n",
       "Time:                        23:13:57   Log-Likelihood:                -135.01\n",
       "No. Observations:                  43   AIC:                             274.0\n",
       "Df Residuals:                      41   BIC:                             277.5\n",
       "Df Model:                           1                                         \n",
       "Covariance Type:            nonrobust                                         \n",
       "==============================================================================\n",
       "                 coef    std err          t      P>|t|      [0.025      0.975]\n",
       "------------------------------------------------------------------------------\n",
       "const         -1.0775      6.985     -0.154      0.878     -15.183      13.028\n",
       "x1            28.7945     15.288      1.883      0.067      -2.081      59.670\n",
       "==============================================================================\n",
       "Omnibus:                        6.141   Durbin-Watson:                   1.871\n",
       "Prob(Omnibus):                  0.046   Jarque-Bera (JB):                5.143\n",
       "Skew:                           0.827   Prob(JB):                       0.0764\n",
       "Kurtosis:                       3.366   Cond. No.                         21.1\n",
       "==============================================================================\n",
       "\n",
       "Warnings:\n",
       "[1] Standard Errors assume that the covariance matrix of the errors is correctly specified.\n",
       "\"\"\""
      ]
     },
     "execution_count": 38,
     "metadata": {},
     "output_type": "execute_result"
    }
   ],
   "source": [
    "## Lets recreate the model with only the successful field goals variable\n",
    "## and see how the model performs\n",
    "result_alternate = sm.OLS(y_train, add_constant(X_train[:,2])).fit()\n",
    "result_alternate.summary()"
   ]
  },
  {
   "cell_type": "code",
   "execution_count": null,
   "metadata": {},
   "outputs": [],
   "source": [
    "## that the variable has become less significant, and the r square\n",
    "## value has become really low. the preceding model can be iterated\n",
    "## multiple times with the different combination of variables till\n",
    "## the best model is arrived at.."
   ]
  },
  {
   "cell_type": "code",
   "execution_count": null,
   "metadata": {},
   "outputs": [],
   "source": [
    "## lets apply both these models on the test data and see how\n",
    "## the mean squared error between the actual and the predicted\n",
    "## value is. \n",
    "## The model that gives the least mean squared error is a good model\n"
   ]
  },
  {
   "cell_type": "code",
   "execution_count": 40,
   "metadata": {},
   "outputs": [
    {
     "name": "stdout",
     "output_type": "stream",
     "text": [
      "27.323439729310415\n"
     ]
    }
   ],
   "source": [
    "ypred = result.predict(add_constant(X_valid))\n",
    "print (mse(ypred, y_valid))"
   ]
  },
  {
   "cell_type": "code",
   "execution_count": 42,
   "metadata": {},
   "outputs": [
    {
     "name": "stdout",
     "output_type": "stream",
     "text": [
      "27.019352844327656\n"
     ]
    }
   ],
   "source": [
    "ypred_alternate = result_alternate.predict(add_constant(X_valid[:,2]))\n",
    "print(mse(ypred_alternate, y_valid))"
   ]
  },
  {
   "cell_type": "code",
   "execution_count": 43,
   "metadata": {},
   "outputs": [
    {
     "data": {
      "image/png": "[encoded data removed]",
      "text/plain": [
       "<Figure size 432x288 with 1 Axes>"
      ]
     },
     "metadata": {
      "needs_background": "light"
     },
     "output_type": "display_data"
    }
   ],
   "source": [
    "## lets also plot the predicted versus actual plot for both the models:\n",
    "fig, ax = plt.subplots(1,1)\n",
    "ax.scatter(y_valid, ypred)\n",
    "ax.set_xlabel('Actual')\n",
    "ax.set_ylabel('Predicted')\n",
    "plt.show()"
   ]
  },
  {
   "cell_type": "code",
   "execution_count": 44,
   "metadata": {
    "scrolled": true
   },
   "outputs": [
    {
     "data": {
      "image/png": "[encoded data removed]",
      "text/plain": [
       "<Figure size 432x288 with 1 Axes>"
      ]
     },
     "metadata": {
      "needs_background": "light"
     },
     "output_type": "display_data"
    }
   ],
   "source": [
    "## lets plot the scatter for the alternate model:\n",
    "fig, ax = plt.subplots(1,1)\n",
    "ax.scatter(y_valid, ypred_alternate)\n",
    "ax.set_xlabel('Actual')\n",
    "ax.set_ylabel('Predicted')\n",
    "plt.show()"
   ]
  },
  {
   "cell_type": "code",
   "execution_count": null,
   "metadata": {},
   "outputs": [],
   "source": [
    "## this clearly shows that our models are not good enough since the\n",
    "## predictions are quite random. To make a highly accurate model, we need\n",
    "## some more variables, which have an influence on the average points\n",
    "## that are scored"
   ]
  },
  {
   "cell_type": "code",
   "execution_count": 45,
   "metadata": {},
   "outputs": [],
   "source": [
    "#lets try with SciKit\n",
    "lm = LinearRegression()"
   ]
  },
  {
   "cell_type": "code",
   "execution_count": 46,
   "metadata": {},
   "outputs": [
    {
     "data": {
      "text/plain": [
       "LinearRegression(copy_X=True, fit_intercept=True, n_jobs=None, normalize=False)"
      ]
     },
     "execution_count": 46,
     "metadata": {},
     "output_type": "execute_result"
    }
   ],
   "source": [
    "lm.fit(X_train, y_train)"
   ]
  },
  {
   "cell_type": "code",
   "execution_count": 48,
   "metadata": {},
   "outputs": [
    {
     "name": "stdout",
     "output_type": "stream",
     "text": [
      "Intercept is -8.689344\n"
     ]
    }
   ],
   "source": [
    "print('Intercept is %f' %lm.intercept_)"
   ]
  },
  {
   "cell_type": "code",
   "execution_count": 49,
   "metadata": {
    "scrolled": true
   },
   "outputs": [
    {
     "data": {
      "text/html": [
       "<div>\n",
       "<style scoped>\n",
       "    .dataframe tbody tr th:only-of-type {\n",
       "        vertical-align: middle;\n",
       "    }\n",
       "\n",
       "    .dataframe tbody tr th {\n",
       "        vertical-align: top;\n",
       "    }\n",
       "\n",
       "    .dataframe thead th {\n",
       "        text-align: right;\n",
       "    }\n",
       "</style>\n",
       "<table border=\"1\" class=\"dataframe\">\n",
       "  <thead>\n",
       "    <tr style=\"text-align: right;\">\n",
       "      <th></th>\n",
       "      <th>features</th>\n",
       "      <th>estimatedCoefficients</th>\n",
       "    </tr>\n",
       "  </thead>\n",
       "  <tbody>\n",
       "    <tr>\n",
       "      <th>0</th>\n",
       "      <td>height</td>\n",
       "      <td>0.246432</td>\n",
       "    </tr>\n",
       "    <tr>\n",
       "      <th>1</th>\n",
       "      <td>weight</td>\n",
       "      <td>-0.038881</td>\n",
       "    </tr>\n",
       "    <tr>\n",
       "      <th>2</th>\n",
       "      <td>success_field_goals</td>\n",
       "      <td>39.357358</td>\n",
       "    </tr>\n",
       "    <tr>\n",
       "      <th>3</th>\n",
       "      <td>success_free_throws</td>\n",
       "      <td>12.458012</td>\n",
       "    </tr>\n",
       "  </tbody>\n",
       "</table>\n",
       "</div>"
      ],
      "text/plain": [
       "              features  estimatedCoefficients\n",
       "0               height               0.246432\n",
       "1               weight              -0.038881\n",
       "2  success_field_goals              39.357358\n",
       "3  success_free_throws              12.458012"
      ]
     },
     "execution_count": 49,
     "metadata": {},
     "output_type": "execute_result"
    }
   ],
   "source": [
    "pd.DataFrame(zip(b_data.columns,lm.coef_), columns=['features', 'estimatedCoefficients'])"
   ]
  },
  {
   "cell_type": "code",
   "execution_count": null,
   "metadata": {},
   "outputs": [],
   "source": [
    "## Coefficient and intercepts are similar to the model that was \n",
    "## built using the statsmodel package"
   ]
  },
  {
   "cell_type": "code",
   "execution_count": 52,
   "metadata": {},
   "outputs": [
    {
     "name": "stderr",
     "output_type": "stream",
     "text": [
      "C:\\Users\\krish\\Anaconda3\\lib\\site-packages\\sklearn\\model_selection\\_split.py:1978: FutureWarning: The default value of cv will change from 3 to 5 in version 0.22. Specify it explicitly to silence this warning.\n",
      "  warnings.warn(CV_WARNING, FutureWarning)\n"
     ]
    },
    {
     "data": {
      "text/plain": [
       "{'fit_time': array([0.00099802, 0.00099683, 0.00099969]),\n",
       " 'score_time': array([0.00199199, 0.        , 0.        ]),\n",
       " 'test_score': array([ 0.00593486, -0.21358548, -0.19236217])}"
      ]
     },
     "execution_count": 52,
     "metadata": {},
     "output_type": "execute_result"
    }
   ],
   "source": [
    "## To calculate teh r square in SciKit, the cross-validation module\n",
    "cross_validate(lm, X_train, y_train, scoring='r2')"
   ]
  },
  {
   "cell_type": "code",
   "execution_count": 53,
   "metadata": {},
   "outputs": [
    {
     "data": {
      "text/plain": [
       "27.323439729310532"
      ]
     },
     "execution_count": 53,
     "metadata": {},
     "output_type": "execute_result"
    }
   ],
   "source": [
    "ypred = lm.predict(X_valid)\n",
    "mean_squared_error(ypred, y_valid)"
   ]
  },
  {
   "cell_type": "code",
   "execution_count": 54,
   "metadata": {},
   "outputs": [
    {
     "data": {
      "image/png": "[encoded data removed]",
      "text/plain": [
       "<Figure size 432x288 with 1 Axes>"
      ]
     },
     "metadata": {
      "needs_background": "light"
     },
     "output_type": "display_data"
    }
   ],
   "source": [
    "fig, ax = plt.subplots(1,1)\n",
    "ax.scatter(y_valid, ypred)\n",
    "ax.set_xlabel('Actual')\n",
    "ax.set_ylabel('Predicted')\n",
    "plt.show()"
   ]
  },
  {
   "cell_type": "code",
   "execution_count": null,
   "metadata": {},
   "outputs": [],
   "source": []
  }
 ],
 "metadata": {
  "kernelspec": {
   "display_name": "Python 3",
   "language": "python",
   "name": "python3"
  },
  "language_info": {
   "codemirror_mode": {
    "name": "ipython",
    "version": 3
   },
   "file_extension": ".py",
   "mimetype": "text/x-python",
   "name": "python",
   "nbconvert_exporter": "python",
   "pygments_lexer": "ipython3",
   "version": "3.7.3"
  }
 },
 "nbformat": 4,
 "nbformat_minor": 2
}
